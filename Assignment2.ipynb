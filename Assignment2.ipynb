{
 "cells": [
  {
   "cell_type": "markdown",
   "metadata": {},
   "source": [
    "# Assignment 1 Review\n",
    "\n",
    "## Paraphrase the problem in your own words.\n",
    "\n",
    "The task is to create a Python function that takes the root of a binary tree as input and generates all possible paths from the root to the leaves of the tree. The order of these paths in the output is flexible.\n",
    "\n",
    "## Create 1 new example that demonstrates you understand the problem.\n",
    "\n",
    "\n",
    "## New Example\n",
    "##    10\n",
    "##   / \\\n",
    "##   5   15\n",
    "##  / \\    \\\n",
    "## 3   7    20\n",
    "new_root = TreeNode(10)\n",
    "new_root.left = TreeNode(5)\n",
    "new_root.right = TreeNode(15)\n",
    "new_root.left.left = TreeNode(3)\n",
    "new_root.left.right = TreeNode(7)\n",
    "new_root.right.right = TreeNode(20)\n",
    "new_result = bt_path(new_root)\n",
    "print(new_result)\n",
    "# Expected Output: [[10, 5, 3], [10, 5, 7], [10, 15, 20]]"
   ]
  },
  {
   "cell_type": "markdown",
   "metadata": {},
   "source": [
    "# Trace/walkthrough 1 example that your partner made and explain it.\n",
    "\n",
    "# 1\n",
    "# / \\\n",
    "# 2  3\n",
    "# / \\\n",
    "# 4  5\n",
    "\n",
    "\n",
    "### root = TreeNode(1)\n",
    "### root.left = TreeNode(2)\n",
    "### root.right = TreeNode(3)\n",
    "### root.left.left = TreeNode(4)\n",
    "### root.left.right = TreeNode(5)\n",
    "### result = bt_path(root)\n",
    "### print(result)\n",
    "\n",
    "# Expected Output: [[1, 2, 4], [1, 2, 5], [1, 3]]"
   ]
  },
  {
   "cell_type": "markdown",
   "metadata": {},
   "source": [
    "## Explanation: The function starts traversing the tree from the root (1). It appends the current node's value to the current_path list. When it reaches the leaf nodes (4, 5), it appends the path to the paths list. The function then backtracks to explore other paths."
   ]
  },
  {
   "cell_type": "markdown",
   "metadata": {},
   "source": [
    "### Copy of Solution"
   ]
  },
  {
   "cell_type": "code",
   "execution_count": null,
   "metadata": {},
   "outputs": [],
   "source": [
    "class TreeNode(object):\n",
    "    def __init__(self, val=0, left=None, right=None):\n",
    "        self.val = val\n",
    "        self.left = left\n",
    "        self.right = right\n",
    "\n",
    "def bt_path(root: TreeNode) -> List[List[int]]:\n",
    "    paths = []  # To store the result\n",
    "\n",
    "    def dfs(node, current_path):\n",
    "        if not node:\n",
    "            return\n",
    "        current_path.append(node.val)\n",
    "        if not node.left and not node.right:  # Leaf node\n",
    "            paths.append(list(current_path))\n",
    "        else:\n",
    "            dfs(node.left, current_path)\n",
    "            dfs(node.right, current_path)\n",
    "        current_path.pop()  # Backtrack\n",
    "\n",
    "    dfs(root, [])\n",
    "    return paths"
   ]
  },
  {
   "cell_type": "markdown",
   "metadata": {},
   "source": [
    "# Explain why their solution works in your own words.\n",
    "\n",
    "The solution uses depth-first search (DFS) to traverse the binary tree, maintaining the current path. When a leaf node is reached, the current path is added to the result. The backtracking step is crucial to explore all possible paths."
   ]
  },
  {
   "cell_type": "markdown",
   "metadata": {},
   "source": [
    "# Explain the problem’s time and space complexity in your own words.\n",
    "\n",
    "Time Complexity: O(N) The function traverses each node once.\n",
    "Space Complexity: O(H) The space required for the recursive call stack, where H is the height of the binary tree.\n"
   ]
  },
  {
   "cell_type": "markdown",
   "metadata": {},
   "source": [
    "# Critique your partner's solution, including an explanation if there is anything that should be adjusted.\n",
    "\n",
    "The solution is correct and efficiently utilizes DFS for path generation. However, it could be enhanced by handling edge cases, such as an empty tree, to make it more robust."
   ]
  },
  {
   "cell_type": "markdown",
   "metadata": {},
   "source": [
    "# Reflection\n",
    "\n",
    "In completing review of Assignment 1, I deepened my understanding of binary tree traversal and recursion. Collaborating with my partner during the presentation and review process allowed me to gain insights into different problem-solving approaches. Discussing the examples and solutions strengthened my comprehension and honed my ability to articulate solutions effectively. Moving forward, I aim to apply these collaborative learning experiences to tackle more complex problems and improve my programming skills."
   ]
  }
 ],
 "metadata": {
  "kernelspec": {
   "display_name": "Python 3",
   "language": "python",
   "name": "python3"
  },
  "language_info": {
   "name": "python",
   "version": "3.9.6"
  },
  "orig_nbformat": 4
 },
 "nbformat": 4,
 "nbformat_minor": 2
}
