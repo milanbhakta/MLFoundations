{
 "cells": [
  {
   "cell_type": "markdown",
   "metadata": {},
   "source": [
    "# Create Node Class"
   ]
  },
  {
   "cell_type": "code",
   "execution_count": 10,
   "metadata": {},
   "outputs": [],
   "source": [
    "class Node:\n",
    "    def __init__(self, val):\n",
    "        self.val = val\n",
    "        self.left = None\n",
    "        self.right = None\n"
   ]
  },
  {
   "cell_type": "markdown",
   "metadata": {},
   "source": [
    "# Insert Values into Tree"
   ]
  },
  {
   "cell_type": "code",
   "execution_count": 11,
   "metadata": {},
   "outputs": [],
   "source": [
    "# Creating nodes\n",
    "a = Node('a')\n",
    "b = Node('b')\n",
    "c = Node('c')\n",
    "d = Node('d')\n",
    "e = Node('e')\n",
    "f = Node('f')\n",
    "\n",
    "# Connecting nodes to form the tree\n",
    "a.left = b\n",
    "a.right = c\n",
    "b.left = d\n",
    "b.right = e\n",
    "c.right = f"
   ]
  },
  {
   "cell_type": "markdown",
   "metadata": {},
   "source": [
    "# basic solution (Stack approach)\n",
    "### Time Complexity: O(n)\n",
    "### Space Complexity: O(n) "
   ]
  },
  {
   "cell_type": "code",
   "execution_count": 12,
   "metadata": {},
   "outputs": [],
   "source": [
    "def depthFirstValues(root):\n",
    "    if root is None:\n",
    "        return []\n",
    "\n",
    "    values = []\n",
    "    stack = [root]\n",
    "\n",
    "    while stack:\n",
    "        node = stack.pop()\n",
    "        values.append(node.val)\n",
    "\n",
    "        if node.right is not None:\n",
    "            stack.append(node.right)\n",
    "\n",
    "        if node.left is not None:\n",
    "            stack.append(node.left)\n",
    "\n",
    "    return values\n"
   ]
  },
  {
   "cell_type": "code",
   "execution_count": 13,
   "metadata": {},
   "outputs": [
    {
     "name": "stdout",
     "output_type": "stream",
     "text": [
      "['a', 'b', 'd', 'e', 'c', 'f']\n"
     ]
    }
   ],
   "source": [
    "print(depthFirstValues(a))"
   ]
  },
  {
   "cell_type": "markdown",
   "metadata": {},
   "source": [
    "# basic solution (Stack approach) Recursive approach\n",
    "### Time Complexity: O(n^2)\n",
    "### Space Complexity: O(n) "
   ]
  },
  {
   "cell_type": "code",
   "execution_count": 17,
   "metadata": {},
   "outputs": [
    {
     "name": "stdout",
     "output_type": "stream",
     "text": [
      "['a', 'b', 'd', 'e', 'c', 'f']\n"
     ]
    }
   ],
   "source": [
    "def depthFirstValues(root):\n",
    "    if root is None:\n",
    "        return []\n",
    "\n",
    "    left_values = depthFirstValues(root.left)\n",
    "    right_values = depthFirstValues(root.right)\n",
    "    return [root.val] + left_values + right_values\n",
    "\n",
    "print(depthFirstValues(a))"
   ]
  },
  {
   "cell_type": "code",
   "execution_count": 15,
   "metadata": {},
   "outputs": [
    {
     "name": "stdout",
     "output_type": "stream",
     "text": [
      "2\n",
      "10\n",
      "-1\n"
     ]
    }
   ],
   "source": [
    "from queue import Queue\n",
    "\n",
    "class TreeNode:\n",
    "    def __init__(self, val=0, left=None, right=None):\n",
    "        self.val = val\n",
    "        self.left = left\n",
    "        self.right = right\n",
    "\n",
    "def find_closest_duplicate(root: TreeNode) -> int:\n",
    "    if root is None:\n",
    "        return -1\n",
    "\n",
    "    queue = Queue()\n",
    "    queue.put((root, 0))  # (node, depth)\n",
    "    values_seen = set()\n",
    "    closest_duplicate = (None, None)  # (value, depth)\n",
    "\n",
    "    while not queue.empty():\n",
    "        node, depth = queue.get()\n",
    "\n",
    "        if node.val in values_seen:\n",
    "            if closest_duplicate[0] is None or depth < closest_duplicate[1]:\n",
    "                closest_duplicate = (node.val, depth)\n",
    "\n",
    "        values_seen.add(node.val)\n",
    "\n",
    "        if node.left:\n",
    "            queue.put((node.left, depth + 1))\n",
    "        if node.right:\n",
    "            queue.put((node.right, depth + 1))     \n",
    "\n",
    "    return closest_duplicate[0] if closest_duplicate[0] is not None else -1\n",
    "\n",
    "# Test cases\n",
    "root1 = TreeNode(1, TreeNode(2), TreeNode(2, TreeNode(3), TreeNode(5, TreeNode(6), TreeNode(7))))\n",
    "print(find_closest_duplicate(root1))  # Output: 2\n",
    "\n",
    "root2 = TreeNode(1, TreeNode(10), TreeNode(2, TreeNode(3), TreeNode(10, TreeNode(12), TreeNode(12))))\n",
    "print(find_closest_duplicate(root2))  # Output: 10\n",
    "\n",
    "root3 = TreeNode(10, TreeNode(9), TreeNode(8, TreeNode(7)))\n",
    "print(find_closest_duplicate(root3))  # Output: -1\n",
    "\n",
    "\n"
   ]
  },
  {
   "cell_type": "code",
   "execution_count": 16,
   "metadata": {},
   "outputs": [
    {
     "name": "stdout",
     "output_type": "stream",
     "text": [
      "[1, 2, 2, 3, 5, 6, 7]\n",
      "[1, 10, 2, 3, 10, 12, 12]\n",
      "[10, 9, 8, 7]\n"
     ]
    }
   ],
   "source": [
    "class TreeNode:\n",
    "    def __init__(self, val=0, left=None, right=None):\n",
    "        self.val = val\n",
    "        self.left = left\n",
    "        self.right = right\n",
    "\n",
    "def find_closest_duplicate(root):\n",
    "    if not root:\n",
    "        return []\n",
    "    \n",
    "    values = [root.val]\n",
    "    values.extend(find_closest_duplicate(root.left))\n",
    "    values.extend(find_closest_duplicate(root.right))\n",
    "    return values\n",
    "\n",
    "# Test cases\n",
    "root1 = TreeNode(1, TreeNode(2), TreeNode(2, TreeNode(3), TreeNode(5, TreeNode(6), TreeNode(7))))\n",
    "print(find_closest_duplicate(root1))  # Output: 2\n",
    "\n",
    "root2 = TreeNode(1, TreeNode(10), TreeNode(2, TreeNode(3), TreeNode(10, TreeNode(12), TreeNode(12))))\n",
    "print(find_closest_duplicate(root2))  # Output: 10\n",
    "\n",
    "root3 = TreeNode(10, TreeNode(9), TreeNode(8, TreeNode(7)))\n",
    "print(find_closest_duplicate(root3))  # Output: -1\n"
   ]
  }
 ],
 "metadata": {
  "kernelspec": {
   "display_name": "Python 3",
   "language": "python",
   "name": "python3"
  },
  "language_info": {
   "codemirror_mode": {
    "name": "ipython",
    "version": 3
   },
   "file_extension": ".py",
   "mimetype": "text/x-python",
   "name": "python",
   "nbconvert_exporter": "python",
   "pygments_lexer": "ipython3",
   "version": "3.9.6"
  },
  "orig_nbformat": 4
 },
 "nbformat": 4,
 "nbformat_minor": 2
}
