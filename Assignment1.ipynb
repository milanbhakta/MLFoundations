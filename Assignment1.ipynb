{
 "cells": [
  {
   "cell_type": "code",
   "execution_count": 2,
   "metadata": {},
   "outputs": [
    {
     "data": {
      "text/plain": [
       "3"
      ]
     },
     "execution_count": 2,
     "metadata": {},
     "output_type": "execute_result"
    }
   ],
   "source": [
    "(hash('Milan')%3)+1"
   ]
  },
  {
   "cell_type": "markdown",
   "metadata": {},
   "source": [
    "# # \n",
    "\n",
    "### Problem Description\n",
    "Given a list of integers representing a range [0, n], the task is to find and return the missing numbers in the range. \n",
    "Handle cases where there are no missing numbers and return -1 in such instances.\n"
   ]
  },
  {
   "cell_type": "markdown",
   "metadata": {},
   "source": [
    "# # Create 2 new examples\n",
    "\n",
    "### Examples\n",
    "\n",
    "#### Example 1:\n",
    "Input: [3, 1, 0, 4, 6]\n",
    "Output: [2, 5]\n",
    "\n",
    "#### Example 2:\n",
    "Input: [9, 8, 7, 6, 5, 4, 3, 2, 1, 0]\n",
    "Output: -1\n"
   ]
  },
  {
   "cell_type": "markdown",
   "metadata": {},
   "source": [
    "# # Code the solution to the assigned problem in Python"
   ]
  },
  {
   "cell_type": "code",
   "execution_count": 11,
   "metadata": {},
   "outputs": [
    {
     "name": "stdout",
     "output_type": "stream",
     "text": [
      "[1]\n",
      "[2, 3, 4]\n",
      "[4, 9]\n",
      "[2, 5]\n",
      "[-1]\n"
     ]
    }
   ],
   "source": [
    "from typing import List\n",
    "\n",
    "def missing_num(nums: List[int]) -> List[int]:\n",
    "    if not nums: return [-1]\n",
    " \n",
    "    n = max(nums)   # Get the maximum number in the list\n",
    "    num_set = set(nums)\n",
    "\n",
    "    missing_numbers = []\n",
    "\n",
    "    for i in range(n+1):\n",
    "        if i not in num_set:\n",
    "            missing_numbers.append(i)\n",
    "\n",
    "    return missing_numbers if missing_numbers else [-1]\n",
    "\n",
    "\n",
    "print(missing_num([0, 2]))  # Output: [1]\n",
    "print(missing_num([5, 0, 1]))  # Output: [2, 3, 4]\n",
    "print(missing_num([6, 8, 2, 3, 5, 7, 0, 1, 10]))  # Output: [4, 9]\n",
    "print(missing_num([3, 1, 0, 4, 6]))\n",
    "print(missing_num([9, 8, 7, 6, 5, 4, 3, 2, 1, 0]))\n",
    "\n",
    "\n"
   ]
  },
  {
   "cell_type": "markdown",
   "metadata": {},
   "source": [
    "# RUN Test to verify"
   ]
  },
  {
   "cell_type": "code",
   "execution_count": 12,
   "metadata": {},
   "outputs": [],
   "source": [
    "\n",
    "\n",
    "import ipytest\n",
    "ipytest.autoconfig()\n",
    "\n",
    "\n",
    "def test_example_1():\n",
    "    nums_example_1 = [0, 2]\n",
    "    result_example_1 = missing_num(nums_example_1)\n",
    "    assert result_example_1 == [1]\n",
    "\n",
    "def test_example_2():\n",
    "    nums_example_2 = [5, 0, 1]\n",
    "    result_example_2 = missing_num(nums_example_2)\n",
    "    assert result_example_2 == [2, 3, 4]\n",
    "\n",
    "def test_example_3():\n",
    "    nums_example_3 = [6, 8, 2, 3, 5, 7, 0, 1, 10]\n",
    "    result_example_3 = missing_num(nums_example_3)\n",
    "    assert result_example_3 == [4, 9]\n",
    "\n",
    "def test_example_4():\n",
    "    nums_example_4 = [3, 1, 0, 4, 6]\n",
    "    result_example_4 = missing_num(nums_example_4)\n",
    "    assert result_example_4 == [2, 5]\n",
    "\n",
    "def test_example_5():\n",
    "    nums_example_5 = [9, 8, 7, 6, 5, 4, 3, 2, 1, 0]\n",
    "    result_example_5 = missing_num(nums_example_5)\n",
    "    assert result_example_5 == [-1]\n",
    "\n",
    "def test_edge_case_empty_list():\n",
    "    nums_empty = []\n",
    "    result_empty = missing_num(nums_empty)\n",
    "    assert result_empty == [-1]\n",
    "\n",
    "def test_edge_case_no_missing_numbers():\n",
    "    nums_no_missing = [0, 1, 2, 3, 4]\n",
    "    result_no_missing = missing_num(nums_no_missing)\n",
    "    assert result_no_missing == [-1]\n",
    "\n",
    "def test_edge_case_non_unique_numbers():\n",
    "    nums_non_unique = [0, 1, 2, 3, 4, 0, 1, 2, 3, 4]\n",
    "    result_non_unique = missing_num(nums_non_unique)\n",
    "    assert result_non_unique == [-1]\n",
    "\n",
    "def test_edge_case_non_unique_numbers_fail():\n",
    "    nums_non_unique = [0, 1, 2, 3, 4, 0, 1, 2, 3, 4, 6]\n",
    "    result_non_unique = missing_num(nums_non_unique)\n",
    "    assert result_non_unique == [5, 1]\n"
   ]
  },
  {
   "cell_type": "code",
   "execution_count": 10,
   "metadata": {},
   "outputs": [
    {
     "name": "stdout",
     "output_type": "stream",
     "text": [
      "\u001b[1m======================================= test session starts ========================================\u001b[0m\n",
      "platform darwin -- Python 3.11.5, pytest-7.4.4, pluggy-1.3.0 -- /usr/local/bin/python3\n",
      "cachedir: .pytest_cache\n",
      "rootdir: /Users/milzbhakta/Documents/PythonProjects/MLFoundations\n",
      "plugins: mock-3.12.0, Faker-22.2.0\n",
      "\u001b[1mcollecting ... \u001b[0mcollected 9 items\n",
      "\n",
      "t_5b9caf98afa9408c83bbf8da6b8b9f3e.py::test_example_1 \u001b[32mPASSED\u001b[0m\u001b[32m                                 [ 11%]\u001b[0m\n",
      "t_5b9caf98afa9408c83bbf8da6b8b9f3e.py::test_example_2 \u001b[32mPASSED\u001b[0m\u001b[32m                                 [ 22%]\u001b[0m\n",
      "t_5b9caf98afa9408c83bbf8da6b8b9f3e.py::test_example_3 \u001b[32mPASSED\u001b[0m\u001b[32m                                 [ 33%]\u001b[0m\n",
      "t_5b9caf98afa9408c83bbf8da6b8b9f3e.py::test_example_4 \u001b[32mPASSED\u001b[0m\u001b[32m                                 [ 44%]\u001b[0m\n",
      "t_5b9caf98afa9408c83bbf8da6b8b9f3e.py::test_example_5 \u001b[32mPASSED\u001b[0m\u001b[32m                                 [ 55%]\u001b[0m\n",
      "t_5b9caf98afa9408c83bbf8da6b8b9f3e.py::test_edge_case_empty_list \u001b[32mPASSED\u001b[0m\u001b[32m                      [ 66%]\u001b[0m\n",
      "t_5b9caf98afa9408c83bbf8da6b8b9f3e.py::test_edge_case_no_missing_numbers \u001b[32mPASSED\u001b[0m\u001b[32m              [ 77%]\u001b[0m\n",
      "t_5b9caf98afa9408c83bbf8da6b8b9f3e.py::test_edge_case_non_unique_numbers \u001b[32mPASSED\u001b[0m\u001b[32m              [ 88%]\u001b[0m\n",
      "t_5b9caf98afa9408c83bbf8da6b8b9f3e.py::test_edge_case_non_unique_numbers_fail \u001b[31mFAILED\u001b[0m\u001b[31m         [100%]\u001b[0m\n",
      "\n",
      "============================================= FAILURES =============================================\n",
      "\u001b[31m\u001b[1m______________________________ test_edge_case_non_unique_numbers_fail ______________________________\u001b[0m\n",
      "\n",
      "    \u001b[94mdef\u001b[39;49;00m \u001b[92mtest_edge_case_non_unique_numbers_fail\u001b[39;49;00m():\u001b[90m\u001b[39;49;00m\n",
      "        nums_non_unique = [\u001b[94m0\u001b[39;49;00m, \u001b[94m1\u001b[39;49;00m, \u001b[94m2\u001b[39;49;00m, \u001b[94m3\u001b[39;49;00m, \u001b[94m4\u001b[39;49;00m, \u001b[94m0\u001b[39;49;00m, \u001b[94m1\u001b[39;49;00m, \u001b[94m2\u001b[39;49;00m, \u001b[94m3\u001b[39;49;00m, \u001b[94m4\u001b[39;49;00m, \u001b[94m6\u001b[39;49;00m]\u001b[90m\u001b[39;49;00m\n",
      "        result_non_unique = missing_num(nums_non_unique)\u001b[90m\u001b[39;49;00m\n",
      ">       \u001b[94massert\u001b[39;49;00m result_non_unique == [\u001b[94m5\u001b[39;49;00m, \u001b[94m1\u001b[39;49;00m]\u001b[90m\u001b[39;49;00m\n",
      "\u001b[1m\u001b[31mE       AssertionError\u001b[0m\n",
      "\n",
      "\u001b[1m\u001b[31m/var/folders/1m/2rr7b3011gg02bt4wxfsr3hc0000gn/T/ipykernel_13473/2753363580.py\u001b[0m:48: AssertionError\n",
      "\u001b[36m\u001b[1m===================================== short test summary info ======================================\u001b[0m\n",
      "\u001b[31mFAILED\u001b[0m t_5b9caf98afa9408c83bbf8da6b8b9f3e.py::\u001b[1mtest_edge_case_non_unique_numbers_fail\u001b[0m - AssertionError\n",
      "\u001b[31m=================================== \u001b[31m\u001b[1m1 failed\u001b[0m, \u001b[32m8 passed\u001b[0m\u001b[31m in 0.07s\u001b[0m\u001b[31m ====================================\u001b[0m\n"
     ]
    },
    {
     "data": {
      "text/plain": [
       "<ExitCode.TESTS_FAILED: 1>"
      ]
     },
     "execution_count": 10,
     "metadata": {},
     "output_type": "execute_result"
    }
   ],
   "source": [
    "ipytest.run('-vv')"
   ]
  },
  {
   "cell_type": "markdown",
   "metadata": {},
   "source": [
    "# Explain why the solution works\n",
    "\n",
    "###\n",
    "The solution works by iterating through the range [0, n] and checking for each number if it is present in the input list.\n",
    "If a number is not found, it is considered missing and added to the result list. \n",
    "The function returns the list of missing numbers or -1 if none are found.\n",
    "###"
   ]
  },
  {
   "cell_type": "markdown",
   "metadata": {},
   "source": [
    "# Explain time and space complexity\n",
    "\n",
    "###\n",
    "Time Complexity: O(n)\n",
    "The function iterates through the range [0, n] once, checking for the presence of each number in the input list.\n",
    "\n",
    "Space Complexity: O(n)\n",
    "The space complexity is mainly determined by the set created from the input list for efficient lookup.\n",
    "In the worst case, the set will contain all unique numbers in the input list, resulting in O(n) space.\n",
    "###"
   ]
  },
  {
   "cell_type": "markdown",
   "metadata": {},
   "source": [
    "# Explain thinking for an alternative solution\n",
    "\n",
    "###\n",
    "An alternative solution could involve sorting the input list and then iterating through it to find missing numbers.\n",
    "By comparing adjacent elements and identifying gaps, we can determine the missing numbers.\n",
    "This approach might have a different time complexity but could be a viable alternative for larger datasets.\n",
    "###"
   ]
  }
 ],
 "metadata": {
  "kernelspec": {
   "display_name": "Python 3",
   "language": "python",
   "name": "python3"
  },
  "language_info": {
   "codemirror_mode": {
    "name": "ipython",
    "version": 3
   },
   "file_extension": ".py",
   "mimetype": "text/x-python",
   "name": "python",
   "nbconvert_exporter": "python",
   "pygments_lexer": "ipython3",
   "version": "3.9.6"
  },
  "orig_nbformat": 4
 },
 "nbformat": 4,
 "nbformat_minor": 2
}
